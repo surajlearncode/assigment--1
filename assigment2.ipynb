{
 "cells": [
  {
   "cell_type": "code",
   "execution_count": 8,
   "id": "a1d6e29b-125f-4d26-84c5-03de128df861",
   "metadata": {},
   "outputs": [
    {
     "name": "stdin",
     "output_type": "stream",
     "text": [
      " enter the marks 98\n"
     ]
    },
    {
     "name": "stdout",
     "output_type": "stream",
     "text": [
      "you get grade A\n"
     ]
    }
   ],
   "source": [
    "ANS 1:-\n",
    "marks =int(input(\" enter the marks\"))\n",
    "if marks >90:\n",
    "   print(\"you get grade A\")\n",
    "elif marks >=80 and marks<=90:\n",
    "   print(\"you get grade b\")\n",
    "elif marks >=60 and marks<=80:\n",
    "   print(\"you get grade c\")\n",
    "else :\n",
    "   print(\"you get grade d\")\n",
    "   print (\"give your best next time\")\n",
    "    "
   ]
  },
  {
   "cell_type": "code",
   "execution_count": 16,
   "id": "1c88639c-325c-4101-8078-6e8bb2cb32fa",
   "metadata": {},
   "outputs": [
    {
     "name": "stdin",
     "output_type": "stream",
     "text": [
      "enter the costprice of bike for road tax purpose  75000\n"
     ]
    },
    {
     "name": "stdout",
     "output_type": "stream",
     "text": [
      "you have to pay 10% tax from your costprice\n"
     ]
    }
   ],
   "source": [
    "ANS 2:-\n",
    "costprice= int(input(\"enter the costprice of bike for road tax purpose \"))\n",
    "if costprice >100000:\n",
    "    print(\"you have to pay 15% tax from your costprice\")\n",
    "elif costprice >50000 and costprice<=100000:\n",
    "    print(\"you have to pay 10% tax from your costprice\")\n",
    "elif costprice <=50000:\n",
    "    print(\"you have to pay 5% tax from your costprice\")"
   ]
  },
  {
   "cell_type": "code",
   "execution_count": 26,
   "id": "ec7178ca-9e09-4b0e-9989-56bf7fdbdcc7",
   "metadata": {},
   "outputs": [
    {
     "name": "stdin",
     "output_type": "stream",
     "text": [
      "enter the city agra\n"
     ]
    },
    {
     "name": "stdout",
     "output_type": "stream",
     "text": [
      "the famous monument is tajmahal\n"
     ]
    }
   ],
   "source": [
    "ANS 3:-\n",
    "city = input(\"enter the city\")\n",
    "if city == 'delhi':\n",
    "    print(\"the famous monument is redfort\")\n",
    "elif city== 'agra':\n",
    "    print(\"the famous monument is tajmahal\")       \n",
    "elif city== 'jaipur':\n",
    "    print(\"the famous monument is jal mahal\")\n",
    "       "
   ]
  },
  {
   "cell_type": "code",
   "execution_count": null,
   "id": "12067741-99e5-4053-81b0-eea72d7c00f9",
   "metadata": {},
   "outputs": [],
   "source": [
    "#ANS 4:-\n",
    "number = int(input (\"enter the number\"))\n",
    "count=0\n",
    "while number >= 10:\n",
    "    number= number/3\n",
    "    count=count+1\n",
    "\n",
    "print('total iteration required', count)"
   ]
  },
  {
   "cell_type": "code",
   "execution_count": 2,
   "id": "f7915be2-5ea6-41ab-9aeb-6a91f317064d",
   "metadata": {},
   "outputs": [
    {
     "name": "stdout",
     "output_type": "stream",
     "text": [
      "1\n",
      "2\n",
      "3\n",
      "4\n",
      "5\n",
      "6\n",
      "7\n",
      "8\n",
      "9\n",
      "10\n"
     ]
    }
   ],
   "source": [
    "ANS 5:-\n",
    "We use while loop for :\n",
    ".when you want to print a collection of number for a unknow times .\n",
    "eg: \n",
    "a=1\n",
    "while a <=10 :\n",
    "    print(a)\n",
    "    a = a+1   "
   ]
  },
  {
   "cell_type": "code",
   "execution_count": 3,
   "id": "5631ec6c-3d69-4008-8360-a08f16d6bf80",
   "metadata": {},
   "outputs": [
    {
     "name": "stdout",
     "output_type": "stream",
     "text": [
      "1 \n",
      "1 2 \n",
      "1 2 3 \n",
      "1 2 3 4 \n",
      "1 2 3 4 5 \n"
     ]
    }
   ],
   "source": [
    "ANS 6:- \n",
    "Using nested while loop printing examples\n",
    "EXAMPLE 1\n",
    "i=1\n",
    "while i<=5:\n",
    "    j=1\n",
    "    while j<=i:\n",
    "        print(j,end=\" \")\n",
    "        j=j+1\n",
    "    print(\"\")\n",
    "    i=i+1"
   ]
  },
  {
   "cell_type": "code",
   "execution_count": 9,
   "id": "21aa96f9-0f60-43eb-bc11-2313d81afabd",
   "metadata": {},
   "outputs": [
    {
     "name": "stdout",
     "output_type": "stream",
     "text": [
      "*\n",
      "**\n",
      "***\n",
      "****\n",
      "*****\n"
     ]
    }
   ],
   "source": [
    "EXAMPLE 2\n",
    "i=1\n",
    "while i<=5:\n",
    "    j=1\n",
    "    while j<=i:\n",
    "        print(end=\"*\")\n",
    "        j=j+1\n",
    "    print(\"\")\n",
    "    i=i+1"
   ]
  },
  {
   "cell_type": "code",
   "execution_count": 10,
   "id": "fdd359e3-eaf0-4089-925f-6d2a9c6aaecd",
   "metadata": {},
   "outputs": [
    {
     "name": "stdout",
     "output_type": "stream",
     "text": [
      "ABC\n",
      "ABCABC\n",
      "ABCABCABC\n",
      "ABCABCABCABC\n",
      "ABCABCABCABCABC\n"
     ]
    }
   ],
   "source": [
    "EXAMPLE 3\n",
    "i=1\n",
    "while i<=5:\n",
    "    j=1\n",
    "    while j<=i:\n",
    "        print(end=\"ABC\")\n",
    "        j=j+1\n",
    "    print(\"\")\n",
    "    i=i+1"
   ]
  },
  {
   "cell_type": "code",
   "execution_count": 1,
   "id": "574b6701-9b3f-4040-85b5-fecafa18e212",
   "metadata": {},
   "outputs": [
    {
     "name": "stdout",
     "output_type": "stream",
     "text": [
      "10\n",
      "9\n",
      "8\n",
      "7\n",
      "6\n",
      "5\n",
      "4\n",
      "3\n",
      "2\n",
      "1\n"
     ]
    }
   ],
   "source": [
    "ANS 7:-\n",
    "i = 10\n",
    "while i > 0:\n",
    "    print(i)\n",
    "    i = i - 1"
   ]
  },
  {
   "cell_type": "code",
   "execution_count": 7,
   "id": "247ee6e1-6953-489a-adf2-661a15149ec9",
   "metadata": {},
   "outputs": [
    {
     "name": "stdout",
     "output_type": "stream",
     "text": [
      "total iteration required 3\n"
     ]
    }
   ],
   "source": [
    "count=0\n",
    "number = 180\n",
    "while number > 10:\n",
    "    number= number/3\n",
    "    count=count+1\n",
    "\n",
    "print('total iteration required', count);"
   ]
  },
  {
   "cell_type": "markdown",
   "id": "f3aecca2-37b5-4426-8754-bfbfdad46b64",
   "metadata": {},
   "source": [
    "## "
   ]
  }
 ],
 "metadata": {
  "kernelspec": {
   "display_name": "Python 3 (ipykernel)",
   "language": "python",
   "name": "python3"
  },
  "language_info": {
   "codemirror_mode": {
    "name": "ipython",
    "version": 3
   },
   "file_extension": ".py",
   "mimetype": "text/x-python",
   "name": "python",
   "nbconvert_exporter": "python",
   "pygments_lexer": "ipython3",
   "version": "3.10.8"
  }
 },
 "nbformat": 4,
 "nbformat_minor": 5
}
