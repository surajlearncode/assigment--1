{
 "cells": [
  {
   "cell_type": "code",
   "execution_count": 4,
   "id": "bd370cda",
   "metadata": {},
   "outputs": [],
   "source": [
    "Ans 1:- Guido van Rossum.\n",
    "Ans 2:- Python supports object oriented programming and structured programming .\n",
    "Ans 3:- yes python is case senstive while dealing with identifers as it treats both uppercase and lowercase different.\n",
    "Ans 4:- The correct extension for python file is .ipynb\n",
    "Ans 5:-python is interpreted language.\n",
    "\n"
   ]
  },
  {
   "cell_type": "code",
   "execution_count": 5,
   "id": "59e6442d",
   "metadata": {},
   "outputs": [
    {
     "name": "stdout",
     "output_type": "stream",
     "text": [
      "correct name\n",
      "hi\n"
     ]
    }
   ],
   "source": [
    "Ans 6:- the following blocks of code are a module,a function body and a class definition.\n",
    "    eg:\n",
    "given_name ='suraj'\n",
    "if given_name =='suraj':\n",
    "   print('correct name')\n",
    "else :\n",
    "    print('incorrect name')\n",
    "print ('hi')"
   ]
  },
  {
   "cell_type": "code",
   "execution_count": null,
   "id": "e80f545d",
   "metadata": {},
   "outputs": [],
   "source": [
    "Ans 7:- The character that is used to give single line comment is hash character(#).\n",
    "Ans 8:- The function which can help to find the version of python that we are currently working at is sys.version .\n",
    "Ans 9:- The construct is called as lambda.\n",
    "Ans 10:- The pip in python stand for preferred installer program.\n",
    "Ans 11:- The varoius built in functions in python are type() function, input() function, pow() function, max() functions, etc.\n",
    "Ans 12:- The maximum length of identifiers in python is 79 characters.\n",
    "Ans 13:- The benefits of using python are:\n",
    "         .large developer community\n",
    "         .Extensive libraries\n",
    "         . write less and do more\n",
    "         . protability\n",
    "         . wide range of cases used\n",
    "Ans 14:- Memory managed in python involves a private heap containing all python objects and data structures.\n",
    "Ans 15:- The PATH variable is a list of directories where each directory contains the executable file for a command.\n",
    "         The complete path of python.exe can be added by:\n",
    "         .Right-clicking This PC and going to Properties.\n",
    "         .Clicking on the Advanced system settings in the menu on the left.\n",
    "         .Clicking on the Environment Variables button o​n the bottom right.\n",
    "         .In the System variables section, selecting the Path variable and clicking on Edit. The next screen will show all the directories that are currently a part of the PATH variable.\n",
    "         .Clicking on New and entering Python’s install directory.\n",
    "ANS 16:- The indentation is requried in python very much. As indentation refers to space between the code.   "
   ]
  }
 ],
 "metadata": {
  "kernelspec": {
   "display_name": "Python 3 (ipykernel)",
   "language": "python",
   "name": "python3"
  },
  "language_info": {
   "codemirror_mode": {
    "name": "ipython",
    "version": 3
   },
   "file_extension": ".py",
   "mimetype": "text/x-python",
   "name": "python",
   "nbconvert_exporter": "python",
   "pygments_lexer": "ipython3",
   "version": "3.11.1"
  }
 },
 "nbformat": 4,
 "nbformat_minor": 5
}
